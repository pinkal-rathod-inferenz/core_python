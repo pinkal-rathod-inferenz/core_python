{
 "cells": [
  {
   "cell_type": "code",
   "execution_count": 1,
   "id": "7507b8f6",
   "metadata": {},
   "outputs": [
    {
     "name": "stdout",
     "output_type": "stream",
     "text": [
      "12.566370614359172\n"
     ]
    }
   ],
   "source": [
    "# Create a program that calculates the area of a circle given its radius. \n",
    "import math as m\n",
    "rad = float(input(\"Radius: \"))\n",
    "\n",
    "sol = (m.pi)*pow(rad,2)\n",
    "print(sol)"
   ]
  },
  {
   "cell_type": "code",
   "execution_count": 2,
   "id": "9ffefdb6",
   "metadata": {},
   "outputs": [
    {
     "name": "stdout",
     "output_type": "stream",
     "text": [
      "0 It is Armstrong Number\n",
      "1 It is Armstrong Number\n",
      "153 It is Armstrong Number\n",
      "370 It is Armstrong Number\n",
      "371 It is Armstrong Number\n",
      "407 It is Armstrong Number\n"
     ]
    }
   ],
   "source": [
    "# Find Armstrong number in range (0,1000)\n",
    "\n",
    "def armstng(n):\n",
    "    if n != 1001:\n",
    "        sum =0\n",
    "        temp = n\n",
    "        while(temp>0):\n",
    "            rem = temp%10\n",
    "            sum=sum+pow(rem,3)\n",
    "            temp = temp//10\n",
    "        if sum == n:\n",
    "            print(n,\"It is Armstrong Number\")\n",
    "        return armstng(n+1)\n",
    "\n",
    "        \n",
    "armstng(0)    \n"
   ]
  },
  {
   "cell_type": "code",
   "execution_count": 3,
   "id": "4a5afd35",
   "metadata": {},
   "outputs": [
    {
     "name": "stdout",
     "output_type": "stream",
     "text": [
      "Prime Number\n"
     ]
    }
   ],
   "source": [
    "# Check where the given number is prime or not? \n",
    "\n",
    "def chk_prime(n):\n",
    "    if(n%5 != 0 and n!=5 and n%1==0):\n",
    "        print(\"Prime Number\")\n",
    "    elif(n==5):\n",
    "        print(\"Prime Number\")\n",
    "    else:\n",
    "        print(\"Non-Prime\")\n",
    "chk_prime(72)"
   ]
  },
  {
   "cell_type": "code",
   "execution_count": 4,
   "id": "f469a98e",
   "metadata": {},
   "outputs": [
    {
     "data": {
      "text/plain": [
       "{'a': 0, 'e': 0, 'i': 0, 'o': 0, 'u': 0}"
      ]
     },
     "execution_count": 4,
     "metadata": {},
     "output_type": "execute_result"
    }
   ],
   "source": [
    "# Implement a program that counts the number of vowels in a given string. \n",
    "vow = ['a','e','i','o','u']\n",
    "cnt = [0,0,0,0,0]\n",
    "vow_cnt=dict(zip(vow,cnt))\n",
    "str = input(\"Enter a string: \")\n",
    "for ch in str:\n",
    "    if ch in vow:\n",
    "        vow_cnt[ch]+=1 \n",
    "vow_cnt"
   ]
  },
  {
   "cell_type": "code",
   "execution_count": 5,
   "id": "fae78000",
   "metadata": {},
   "outputs": [
    {
     "name": "stdout",
     "output_type": "stream",
     "text": [
      "Not \n"
     ]
    }
   ],
   "source": [
    "# Create a program that checks if a given word, is a palindrome. \n",
    "\n",
    "str = input(\"Enter a word: \")\n",
    "rev_str = str[::-1]\n",
    "if(str == rev_str):\n",
    "    print(\"Palindrome String\")\n",
    "else:\n",
    "    print(\"Not \")"
   ]
  },
  {
   "cell_type": "code",
   "execution_count": 6,
   "id": "3e813b7f",
   "metadata": {},
   "outputs": [
    {
     "data": {
      "text/plain": [
       "[1, 4, 9, 16, 25, 36, 49, 64, 81]"
      ]
     },
     "execution_count": 6,
     "metadata": {},
     "output_type": "execute_result"
    }
   ],
   "source": [
    "# Write a one-liner using list comprehension to generate a list of squares of numbers from 1 to 10. \n",
    "\n",
    "num_sq = [pow(sq,2) for sq in range(1,10) ]\n",
    "num_sq"
   ]
  },
  {
   "cell_type": "code",
   "execution_count": 7,
   "id": "b96c3327",
   "metadata": {},
   "outputs": [
    {
     "data": {
      "text/plain": [
       "['132.80', '152.60', '93.20', '212.00', '109.40', '32.00']"
      ]
     },
     "execution_count": 7,
     "metadata": {},
     "output_type": "execute_result"
    }
   ],
   "source": [
    "# Implement a function that takes a list of temperatures in Celsius and uses the map function to convert them to Fahrenheit. \n",
    "def cn_frht(x):\n",
    "    fht = (1.8*x) +32\n",
    "    return \"%.2f\" % fht\n",
    "\n",
    "lst = list(map(cn_frht,[56,67,34,100,43,0]))\n",
    "lst\n"
   ]
  },
  {
   "cell_type": "code",
   "execution_count": 8,
   "id": "769b352a",
   "metadata": {},
   "outputs": [
    {
     "name": "stdout",
     "output_type": "stream",
     "text": [
      "Even Number\n"
     ]
    }
   ],
   "source": [
    "# Implement a program that checks if a given number is even or odd without modular operator. \n",
    "def chk_num(n):\n",
    "    if n & 1 == 0:\n",
    "        print(\"Even Number\")\n",
    "    else:\n",
    "        print(\"Odd number\")\n",
    "num = int(input(\"Enter Number\"))\n",
    "chk_num(num)\n",
    "\n"
   ]
  },
  {
   "cell_type": "code",
   "execution_count": 9,
   "id": "c22eb444",
   "metadata": {},
   "outputs": [
    {
     "name": "stdout",
     "output_type": "stream",
     "text": [
      "Not Leap Year\n"
     ]
    }
   ],
   "source": [
    "# Write a program that determines whether a year is a leap year or not. \n",
    "\n",
    "year = int(input(\"Enter year : \"))\n",
    "if year%4==0 | year%100==0:\n",
    "    print(\"Leap Year\")\n",
    "else:\n",
    "    print(\"Not Leap Year\")"
   ]
  },
  {
   "cell_type": "code",
   "execution_count": 10,
   "id": "eff0c0f0",
   "metadata": {},
   "outputs": [
    {
     "name": "stdout",
     "output_type": "stream",
     "text": [
      "\n",
      "\n",
      "*  \n",
      "\n",
      "*  *  \n",
      "\n",
      "*  *  *  \n",
      "\n",
      "*  *  *  *  \n",
      "\n"
     ]
    }
   ],
   "source": [
    "# Create a program to print a right-angled triangle pattern using asterisks. \n",
    "n = int(input(\"Enter a Number: \"))\n",
    "for i in range(n+1):\n",
    "    for j in range(i):\n",
    "        print(\"* \",end=\" \")\n",
    "    print(\"\\n\")"
   ]
  },
  {
   "cell_type": "code",
   "execution_count": 11,
   "id": "4de22385",
   "metadata": {},
   "outputs": [
    {
     "name": "stdout",
     "output_type": "stream",
     "text": [
      "0   1   1   2   3   "
     ]
    }
   ],
   "source": [
    "# Write a program to print the Fibonacci sequence up to a specified number of terms. \n",
    "n = int(input(\"Enter a Number: \"))\n",
    "a = 0;b=1\n",
    "for i in range(n+1):\n",
    "    print(a,\" \",end=\" \")\n",
    "    a,b=b+a,a"
   ]
  },
  {
   "cell_type": "code",
   "execution_count": null,
   "id": "f7854be1",
   "metadata": {},
   "outputs": [],
   "source": []
  },
  {
   "cell_type": "code",
   "execution_count": 9,
   "id": "f192948e",
   "metadata": {},
   "outputs": [
    {
     "name": "stdout",
     "output_type": "stream",
     "text": [
      "3\n",
      "2\n",
      "1\n"
     ]
    }
   ],
   "source": [
    "for i in range(3,0,-1):\n",
    "    print(i)"
   ]
  },
  {
   "cell_type": "code",
   "execution_count": 18,
   "id": "dadddb26",
   "metadata": {},
   "outputs": [
    {
     "name": "stdout",
     "output_type": "stream",
     "text": [
      "Enter a number4\n",
      "4   \n",
      "\n",
      "4   3   \n",
      "\n",
      "4   3   2   \n",
      "\n",
      "4   3   2   1   \n",
      "\n"
     ]
    }
   ],
   "source": [
    "# Implement a program to generate the following pattern: \n",
    "'''\n",
    "\n",
    "4 \n",
    "\n",
    "4 3 \n",
    "\n",
    "4 3 2 \n",
    "\n",
    "4 3 2 1 \n",
    "\n",
    "'''\n",
    "\n",
    "num = int(input(\"Enter a number\"))\n",
    "for i in range(1,num+1):\n",
    "#     print(i,\"iteration\")\n",
    "    for j in range(num,num-i,-1):\n",
    "        print(j,\" \",end=\" \")\n",
    "    print(\"\\n\")"
   ]
  },
  {
   "cell_type": "code",
   "execution_count": 32,
   "id": "7b3f447a",
   "metadata": {},
   "outputs": [
    {
     "name": "stdout",
     "output_type": "stream",
     "text": [
      "Enter a number4\n",
      "    4   \n",
      "\n",
      "   4   3   \n",
      "\n",
      "  4   3   2   \n",
      "\n",
      " 4   3   2   1   \n",
      "\n"
     ]
    }
   ],
   "source": [
    "'''\n",
    "   4 \n",
    "\n",
    "  4 3 \n",
    "\n",
    " 4 3 2 \n",
    "\n",
    "4 3 2 1 \n",
    "'''\n",
    "num = int(input(\"Enter a number\"))\n",
    "for i in range(1,num+1):\n",
    "#     print(i,\"iteration\")\n",
    "    print(\" \"*(num-i),end=\" \")\n",
    "    for j in range(num,num-i,-1):\n",
    "        print(j,\" \",end=\" \")\n",
    "    print(\"\\n\")"
   ]
  },
  {
   "cell_type": "code",
   "execution_count": 14,
   "id": "13fd4800",
   "metadata": {},
   "outputs": [],
   "source": [
    "# Write a program to read data from a file and display it on the console.\n",
    "f = open(\"file.txt\",\"r+\")\n",
    "line = \"ghdgfjfytukdtuyhdjmytnjy \\ndfhdfghkmjmdrfghkmdty \\ndfjdghkcdyhsmk,ryjrytjuyt\"\n",
    "f.write(line)\n",
    "f.close()\n"
   ]
  },
  {
   "cell_type": "code",
   "execution_count": 15,
   "id": "d722e413",
   "metadata": {},
   "outputs": [
    {
     "name": "stdout",
     "output_type": "stream",
     "text": [
      "ghdgfjfytukdtuyhdjmytnjy \n",
      "dfhdfghkmjmdrfghkmdty \n",
      "dfjdghkcdyhsmk,ryjrytjuytyt\n"
     ]
    }
   ],
   "source": [
    "f = open(\"file.txt\",\"r+\")\n",
    "# while f:\n",
    "print(f.read())\n",
    "#     if not line:\n",
    "#         break\n",
    "f.close()"
   ]
  },
  {
   "cell_type": "code",
   "execution_count": 1,
   "id": "0dcfc270",
   "metadata": {},
   "outputs": [],
   "source": [
    "import pickle"
   ]
  },
  {
   "cell_type": "code",
   "execution_count": 3,
   "id": "7e7dfd2c",
   "metadata": {},
   "outputs": [],
   "source": [
    "# Pickling\n",
    "cars = [\"maruti\",\"suzuki\",\"lenovo\",\"duster\"]\n",
    "bike = [\"maruti\",\"suzuki\",\"lenovo\",\"duster\"]\n",
    "file= \"mycar.pkl\"\n",
    "f = open(file,\"wb\")\n",
    "pickle.dump([bike,cars],f)\n",
    "f.close()\n"
   ]
  },
  {
   "cell_type": "code",
   "execution_count": 5,
   "id": "8bf3a365",
   "metadata": {},
   "outputs": [
    {
     "name": "stdout",
     "output_type": "stream",
     "text": [
      "[['maruti', 'suzuki', 'lenovo', 'duster'], ['maruti', 'suzuki', 'lenovo', 'duster']]\n",
      "<class 'list'>\n"
     ]
    }
   ],
   "source": [
    "file = \"mycar.pkl\"\n",
    "f = open(file,\"rb\")\n",
    "mycar = pickle.load(f)\n",
    "print(mycar)\n",
    "f.close()\n",
    "print(type(mycar))"
   ]
  },
  {
   "cell_type": "code",
   "execution_count": 6,
   "id": "5c50c5b4",
   "metadata": {},
   "outputs": [],
   "source": [
    "# Create a program that writes a list of numbers to a pickle file. \n",
    "num = [1,2,3,4,5,6,7,8,9,10]\n",
    "file = \"mynum.pkl\"\n",
    "f = open(file,\"wb\")\n",
    "pickle.dump(num,f)\n",
    "f.close()"
   ]
  },
  {
   "cell_type": "code",
   "execution_count": 47,
   "id": "8c71f73e",
   "metadata": {},
   "outputs": [
    {
     "name": "stdout",
     "output_type": "stream",
     "text": [
      "6\n"
     ]
    }
   ],
   "source": [
    "# Implement a program that generates a random number between a specified range. \n",
    "\n",
    "import random as rd\n",
    "\n",
    "print(rd.randint(0,10))"
   ]
  },
  {
   "cell_type": "code",
   "execution_count": 61,
   "id": "dc0d52e6",
   "metadata": {},
   "outputs": [
    {
     "name": "stdout",
     "output_type": "stream",
     "text": [
      "7\n"
     ]
    }
   ],
   "source": [
    "# Write a program that simulates a dice roll. \n",
    "\n",
    "import random as rd\n",
    "\n",
    "print(rd.randint(1,6))"
   ]
  },
  {
   "cell_type": "code",
   "execution_count": 65,
   "id": "9b2f7fa7",
   "metadata": {},
   "outputs": [
    {
     "name": "stdout",
     "output_type": "stream",
     "text": [
      "120\n"
     ]
    }
   ],
   "source": [
    "# Create a function to calculate the factorial of a list of numbers. \n",
    "\n",
    "def fact(n):\n",
    "    if n==1 & n==0:\n",
    "        return 1\n",
    "    else:\n",
    "        return n*fact(n-1)\n",
    "print(fact(5))"
   ]
  },
  {
   "cell_type": "code",
   "execution_count": 26,
   "id": "1ff6c9e5",
   "metadata": {},
   "outputs": [
    {
     "name": "stdout",
     "output_type": "stream",
     "text": [
      "6\n"
     ]
    }
   ],
   "source": [
    "# Write a function that returns the greatest common divisor (GCD) of two numbers. \n",
    "def gcd(n1,n2):\n",
    "    if n1 > n2:\n",
    "        num = n2\n",
    "    else:\n",
    "        num = n1\n",
    "    for i in range(1,num+1):\n",
    "        if n1%i == 0 and n2%i == 0:\n",
    "            prod = i\n",
    "    return prod\n",
    "num1 = int(input(\"Emter num1\"))\n",
    "num2 = int(input(\"Emter num2\"))\n",
    "print(gcd(num1,num2))\n"
   ]
  },
  {
   "cell_type": "code",
   "execution_count": 33,
   "id": "0752aa81",
   "metadata": {},
   "outputs": [
    {
     "name": "stdout",
     "output_type": "stream",
     "text": [
      "Entered number is prime\n"
     ]
    }
   ],
   "source": [
    "# Solve prime number using recursion. \n",
    "\n",
    "def fact(n,i=2):\n",
    "    if i==n:\n",
    "      return True  \n",
    "    if n%i == 0:\n",
    "        return False\n",
    "    return fact(n,i+1)\n",
    "num = int(input(\"Enter number\"))\n",
    "if fact(num):\n",
    "   print(\"Entered number is prime\")\n",
    "else:\n",
    "   print(\"Entered number is not prime\")"
   ]
  },
  {
   "cell_type": "code",
   "execution_count": 5,
   "id": "93f25e8f",
   "metadata": {},
   "outputs": [
    {
     "name": "stdout",
     "output_type": "stream",
     "text": [
      "pinkal is good\n",
      "{'p': 1, 'i': 2, 'n': 1, 'k': 1, 'a': 1, 'l': 1, ' ': 2, 's': 1, 'g': 1, 'o': 2, 'd': 1}\n"
     ]
    }
   ],
   "source": [
    "# Write a program that counts the frequency of each character in a given string and stores it in a dictionary. \n",
    "\n",
    "d1 = {}\n",
    "str = input(\"Enter a string\")\n",
    "str = str.replace(\" \",\"\")\n",
    "print(str)\n",
    "for ch in str:\n",
    "    if ch in d1:\n",
    "        d1[ch] += 1\n",
    "    else:\n",
    "        d1[ch] = 1\n",
    "print(d1)"
   ]
  },
  {
   "cell_type": "code",
   "execution_count": 9,
   "id": "07104033",
   "metadata": {},
   "outputs": [
    {
     "name": "stdout",
     "output_type": "stream",
     "text": [
      "{'rabbit': [1, 2, 3, 4], 'tortoise': 5678, 'giraffe': 'animal', 'rab': [1, 2], 'to': 'file', 'gi': 78.9}\n"
     ]
    }
   ],
   "source": [
    "# Create a program that combines two dictionaries into a new one. \n",
    "dict1 = {\"rabbit\":[1,2,3,4],\"tortoise\":5678,\"giraffe\":\"animal\"}\n",
    "dict2 = {\"rab\":[1,2],\"to\":\"file\",\"gi\":78.90}\n",
    "dict_new = dict1 | dict2\n",
    "print(dict_new)"
   ]
  },
  {
   "cell_type": "code",
   "execution_count": 20,
   "id": "97e296a2",
   "metadata": {},
   "outputs": [
    {
     "name": "stdout",
     "output_type": "stream",
     "text": [
      "{'rabbit': [4, 5, 6], 'giraffe': 'animal'} {'rab': [1, 2], 'gi': 78.9}\n",
      "{'rab': [1, 2], 'gi': 78.9, 'open': 'print'}\n",
      "{'mango': 1, 'apple': 5, 'banana': 7}\n",
      "apple 5\n",
      "banana 7\n",
      "mango 1\n",
      "apple 5\n",
      "banana 7\n",
      "mango 1\n",
      "{'apple': 5, 'orange': 8}\n"
     ]
    }
   ],
   "source": [
    "# Update, remove, add operations sort, threshold filtering. \n",
    "dict1 = {\"rabbit\":[1,2,3,4],\"tortoise\":5678,\"giraffe\":\"animal\"}\n",
    "dict2 = {\"rab\":[1,2],\"to\":\"file\",\"gi\":78.90}\n",
    "dict3 = {\"mango\":1,\"apple\":5,\"banana\":7}\n",
    "\n",
    "# Update \n",
    "dict1[\"rabbit\"] = [4,5,6]\n",
    "\n",
    "# Delete\n",
    "del(dict1[\"tortoise\"])\n",
    "dict2.pop(\"to\")\n",
    "print(dict1,dict2)\n",
    "\n",
    "# Add\n",
    "dict2[\"open\"] = \"print\"\n",
    "print(dict2)\n",
    "\n",
    "# Sorting\n",
    "sorted_dict = sorted(dict3.keys())\n",
    "print(dict3)\n",
    "for key in sorted_dict:\n",
    "    print(key,dict3[key])\n",
    "\n",
    "sorted_items = sorted(dict3.items(), key=lambda x: x[0])\n",
    "for key, value in sorted_items:\n",
    "    print(key, value)\n",
    "\n",
    "# Thresholding Filtering\n",
    "dict4 = {'apple': 5, 'banana': 3, 'orange': 8} \n",
    "th = 4\n",
    "filter_dict = {key : value for key,value in dict4.items() if value > th}\n",
    "print(filter_dict)"
   ]
  },
  {
   "cell_type": "code",
   "execution_count": 23,
   "id": "6305472f",
   "metadata": {},
   "outputs": [
    {
     "name": "stdout",
     "output_type": "stream",
     "text": [
      "ZeroDivisionError: problem is occured\n",
      "The error is solved\n"
     ]
    }
   ],
   "source": [
    "# Implement a program that handles exceptions for division by zero. \n",
    "num = int(input(\"Enter a number\"))\n",
    "try:\n",
    "    print(num/0)\n",
    "except ZeroDivisionError:\n",
    "    print(\"ZeroDivisionError: problem is occured\")\n",
    "finally:\n",
    "    print(\"The error is solved\")\n",
    "\n",
    "\n"
   ]
  },
  {
   "cell_type": "code",
   "execution_count": 8,
   "id": "5e538118",
   "metadata": {},
   "outputs": [
    {
     "name": "stdout",
     "output_type": "stream",
     "text": [
      "The input is not a valid number\n",
      "The entered number is  56y\n"
     ]
    }
   ],
   "source": [
    "# Write a program that prompts the user to enter a number and handles the Value Error if the input is not a valid number. \n",
    "try:\n",
    "    num = input(\"Enter a number\")\n",
    "    num = int(num)\n",
    "except ValueError:\n",
    "    print(\"The input is not a valid number\")\n",
    "finally:\n",
    "    print(\"The entered number is \",num)\n",
    "\n",
    "   "
   ]
  },
  {
   "cell_type": "markdown",
   "id": "bd81413c",
   "metadata": {},
   "source": [
    "#Array"
   ]
  },
  {
   "cell_type": "code",
   "execution_count": 2,
   "id": "56749d23",
   "metadata": {},
   "outputs": [],
   "source": [
    "from array import *"
   ]
  },
  {
   "cell_type": "code",
   "execution_count": 9,
   "id": "e580d618",
   "metadata": {},
   "outputs": [
    {
     "name": "stdout",
     "output_type": "stream",
     "text": [
      "array('d', [1.0, 2.0, 3.0, 4.0])\n",
      "1 2 3 4 "
     ]
    }
   ],
   "source": [
    "x = array('d',[])\n",
    "arr1 = array('d',[1,2,3,4])\n",
    "print(arr1)\n",
    "for i in arr1:\n",
    "    print(\"%d\" % i,end= \" \")\n",
    "\n",
    "# a.append(x)\n",
    "#a.count(x) \n",
    "#a.extend(x) \n",
    "#a.index(x) \n",
    "#a.insert(i,x) \n",
    "#a.pop() \n",
    "#a.pop(x) \n",
    "#a.remove(x) \n",
    "#a.reverse() \n",
    "#a.tofile(f) :- write elements in file f \n",
    "#a.tolist() :- convert elements in list  like a.tostring()\n",
    "# a.fromfile(f,n):-reads from file and appends to end of array\n",
    "# a.fromlist(f,n):-reads from list and appends to end of array\n",
    "# a.fromstring(f,n):-reads from string and appends to end of array"
   ]
  },
  {
   "cell_type": "code",
   "execution_count": 10,
   "id": "15d15c12",
   "metadata": {},
   "outputs": [],
   "source": [
    "import numpy as np"
   ]
  },
  {
   "cell_type": "code",
   "execution_count": 13,
   "id": "1224322a",
   "metadata": {},
   "outputs": [
    {
     "data": {
      "text/plain": [
       "array([ 0. ,  2.5,  5. ,  7.5, 10. ])"
      ]
     },
     "execution_count": 13,
     "metadata": {},
     "output_type": "execute_result"
    }
   ],
   "source": [
    "a = np.linspace(0,10,5)\n",
    "a"
   ]
  },
  {
   "cell_type": "code",
   "execution_count": 27,
   "id": "5dbd4659",
   "metadata": {},
   "outputs": [
    {
     "data": {
      "text/plain": [
       "array([   10.        ,    56.23413252,   316.22776602,  1778.27941004,\n",
       "       10000.        ])"
      ]
     },
     "execution_count": 27,
     "metadata": {},
     "output_type": "execute_result"
    }
   ],
   "source": [
    "a = np.logspace(1,4,5)\n",
    "a"
   ]
  },
  {
   "cell_type": "code",
   "execution_count": 35,
   "id": "535bc5ae",
   "metadata": {},
   "outputs": [
    {
     "data": {
      "text/plain": [
       "(array([ 1,  2,  3,  4,  5,  6,  7,  8,  9, 10, 11]),\n",
       " array([10,  9,  8,  7,  6,  5,  4,  3,  2]))"
      ]
     },
     "execution_count": 35,
     "metadata": {},
     "output_type": "execute_result"
    }
   ],
   "source": [
    "a = np.arange(1,10+2); b=np.arange(10,1,-1)\n",
    "a,b"
   ]
  },
  {
   "cell_type": "code",
   "execution_count": 40,
   "id": "7fc3018c",
   "metadata": {},
   "outputs": [
    {
     "data": {
      "text/plain": [
       "array([1., 1., 1., 1., 1.])"
      ]
     },
     "execution_count": 40,
     "metadata": {},
     "output_type": "execute_result"
    }
   ],
   "source": [
    "a = np.zeros(5,int); b = np.ones(5)\n",
    "a+b"
   ]
  },
  {
   "cell_type": "markdown",
   "id": "cf99444a",
   "metadata": {},
   "source": [
    "sin,cos,tan,max,min,sum,mean,median,var,cov,std,argmin,argmax,unique,sort,concatenate functions can be done in numpy array"
   ]
  },
  {
   "cell_type": "code",
   "execution_count": 43,
   "id": "9a1107f9",
   "metadata": {},
   "outputs": [
    {
     "name": "stdout",
     "output_type": "stream",
     "text": [
      "Result od a==b [False  True  True False]\n",
      "Result od a>b [ True False False False]\n",
      "Result od a<=b [False  True  True  True]\n",
      "Check if any element is matching True\n",
      "Check if all element is matching False\n"
     ]
    }
   ],
   "source": [
    "a = np.array([1,2,3,0])\n",
    "b = np.array([0,2,3,1])\n",
    "\n",
    "c= a == b\n",
    "print(\"Result od a==b\",c)\n",
    "print(\"Result od a>b\",a>b)\n",
    "print(\"Result od a<=b\",a<=b)\n",
    "print(\"Check if any element is matching\",any(c))\n",
    "print(\"Check if all element is matching\",all(c))\n"
   ]
  },
  {
   "cell_type": "code",
   "execution_count": 44,
   "id": "68be7dbc",
   "metadata": {},
   "outputs": [
    {
     "name": "stdout",
     "output_type": "stream",
     "text": [
      "[ True  True  True]\n",
      "[ True  True  True]\n",
      "[False False False]\n"
     ]
    }
   ],
   "source": [
    "a = np.array([1,2,3],int)\n",
    "b = np.array([0,2,3],int)\n",
    "c = np.logical_and(a>0,a<4)\n",
    "print(c)\n",
    "c = np.logical_or(b>=0,b==1)\n",
    "print(c)\n",
    "c = np.logical_not(a>0,a<4)\n",
    "print(c)"
   ]
  },
  {
   "cell_type": "markdown",
   "id": "ef9970e5",
   "metadata": {},
   "source": [
    "a = b Just aliasing\n",
    "b = a.view() is modify can modify the original\n",
    "b = a.copy() is having seperate 2 arrays independent of each other"
   ]
  },
  {
   "cell_type": "code",
   "execution_count": 58,
   "id": "2b5f6074",
   "metadata": {},
   "outputs": [
    {
     "name": "stdout",
     "output_type": "stream",
     "text": [
      "2\n",
      "(2, 4)\n",
      "8\n",
      "4\n",
      "int32\n",
      "32\n",
      "[[ 1  2]\n",
      " [34  4]\n",
      " [ 1  2]\n",
      " [ 3  4]]\n",
      "[ 1  2 34  4  1  2  3  4]\n"
     ]
    }
   ],
   "source": [
    "a =  np.array([[1,2,34,4],[1,2,3,4]],int)\n",
    "print(a.ndim)\n",
    "print(a.shape)\n",
    "print(a.size)\n",
    "print(a.itemsize)\n",
    "print(a.dtype)\n",
    "print(a.nbytes)\n",
    "print(a.reshape(4,2))\n",
    "print(a.flatten())"
   ]
  },
  {
   "cell_type": "markdown",
   "id": "df71eae0",
   "metadata": {},
   "source": [
    "A python program to accept two matrices and find it's product"
   ]
  },
  {
   "cell_type": "code",
   "execution_count": 63,
   "id": "855ec77b",
   "metadata": {},
   "outputs": [
    {
     "name": "stdout",
     "output_type": "stream",
     "text": [
      "[[1 2 3]\n",
      " [4 5 6]]\n",
      "[[ 1  0]\n",
      " [ 0  2]\n",
      " [ 1 -1]]\n",
      "[[ 4  1]\n",
      " [10  4]]\n"
     ]
    }
   ],
   "source": [
    "import numpy as np\n",
    "import sys\n",
    "\n",
    "r1, c1 = [int(a) for a in input(\"First matric rows , columns : \").split()]\n",
    "r2, c2 = [int(a) for a in input(\"Second matric rows , columns : \").split()]\n",
    "if c1!=r2:\n",
    "    print(\"Multiplication is not possible\")\n",
    "    sys.exit()\n",
    "str1 = input(\"First matrix elements\")\n",
    "x = np.reshape(np.matrix(str1),(r1,c1))\n",
    "print(x)\n",
    "str2 = input(\"Second matrix elements\")\n",
    "y = np.reshape(np.matrix(str2),(r2,c2))\n",
    "print(y)\n",
    "z = x*y\n",
    "print(z)"
   ]
  },
  {
   "cell_type": "markdown",
   "id": "b86dae5e",
   "metadata": {},
   "source": [
    "Generators"
   ]
  },
  {
   "cell_type": "code",
   "execution_count": 17,
   "id": "5943bd5e",
   "metadata": {},
   "outputs": [
    {
     "name": "stdout",
     "output_type": "stream",
     "text": [
      "0\n",
      "1\n",
      "1\n",
      "2\n",
      "3\n"
     ]
    }
   ],
   "source": [
    "# Fibonacci Generator: \n",
    "\n",
    "# Implement a generator that generates the Fibonacci sequence up to a specified limit.\n",
    "\n",
    "def fib_generator(n):\n",
    "    a  = 0;b=1\n",
    "    while(a < n):\n",
    "       \n",
    "        yield a \n",
    "        a,b =b,a+b\n",
    "\n",
    "num = int(input())\n",
    "for i in fib_generator(num):\n",
    "    print(i)"
   ]
  },
  {
   "cell_type": "markdown",
   "id": "9d9b4aae",
   "metadata": {},
   "source": [
    "Decorators"
   ]
  },
  {
   "cell_type": "code",
   "execution_count": 1,
   "id": "dfba549c",
   "metadata": {},
   "outputs": [
    {
     "name": "stdout",
     "output_type": "stream",
     "text": [
      "12\n"
     ]
    }
   ],
   "source": [
    "def decor(fun):\n",
    "    def inner():\n",
    "        value = fun()\n",
    "        return value+2\n",
    "    return inner\n",
    "\n",
    "def num():\n",
    "    return 10\n",
    "\n",
    "result_fun = decor(num)\n",
    "print(result_fun())\n",
    "\n"
   ]
  },
  {
   "cell_type": "code",
   "execution_count": 24,
   "id": "77566a2c",
   "metadata": {},
   "outputs": [
    {
     "name": "stdout",
     "output_type": "stream",
     "text": [
      "The start time is  1706186952.6722326\n",
      "The running time is  1.0\n"
     ]
    }
   ],
   "source": [
    "# Timing Decorator: Implement a decorator that calculates and prints the execution time of a function. \n",
    "import time\n",
    "\n",
    "def decor(func):\n",
    "    def run_time():\n",
    "        val = func()\n",
    "        print(\"The running time is \",val-time.time()+1)\n",
    "    return run_time\n",
    "\n",
    "@decor\n",
    "def str_time():\n",
    "    print(\"The start time is \",time.time())\n",
    "    return time.time() \n",
    "\n",
    "str_time()\n",
    "\n",
    "\n"
   ]
  },
  {
   "cell_type": "code",
   "execution_count": 19,
   "id": "9bbe88e6",
   "metadata": {},
   "outputs": [
    {
     "ename": "TypeError",
     "evalue": "val_inp() takes 0 positional arguments but 1 was given",
     "output_type": "error",
     "traceback": [
      "\u001b[1;31m---------------------------------------------------------------------------\u001b[0m",
      "\u001b[1;31mTypeError\u001b[0m                                 Traceback (most recent call last)",
      "Cell \u001b[1;32mIn[19], line 29\u001b[0m\n\u001b[0;32m     26\u001b[0m     val  \u001b[38;5;241m=\u001b[39m \u001b[38;5;28minput\u001b[39m(\u001b[38;5;124m\"\u001b[39m\u001b[38;5;124mEnter Your name\u001b[39m\u001b[38;5;124m\"\u001b[39m)\n\u001b[0;32m     27\u001b[0m     \u001b[38;5;28;01mreturn\u001b[39;00m val\n\u001b[1;32m---> 29\u001b[0m val_inp()\n",
      "Cell \u001b[1;32mIn[19], line 14\u001b[0m, in \u001b[0;36mdecor.<locals>.memorize\u001b[1;34m(*args)\u001b[0m\n\u001b[0;32m      8\u001b[0m \u001b[38;5;28;01mdef\u001b[39;00m \u001b[38;5;21mmemorize\u001b[39m(\u001b[38;5;241m*\u001b[39margs):\n\u001b[0;32m      9\u001b[0m     \u001b[38;5;66;03m# val = func()\u001b[39;00m\n\u001b[0;32m     10\u001b[0m     \u001b[38;5;66;03m# lst = []\u001b[39;00m\n\u001b[0;32m     11\u001b[0m     \u001b[38;5;28;01mif\u001b[39;00m args \u001b[38;5;129;01mnot\u001b[39;00m \u001b[38;5;129;01min\u001b[39;00m cache:\n\u001b[0;32m     12\u001b[0m         \u001b[38;5;66;03m# lst.append(val)\u001b[39;00m\n\u001b[0;32m     13\u001b[0m         \u001b[38;5;66;03m# print(lst)\u001b[39;00m\n\u001b[1;32m---> 14\u001b[0m         cache[args] \u001b[38;5;241m=\u001b[39m func(args)\n\u001b[0;32m     15\u001b[0m         \u001b[38;5;66;03m# val_inp()\u001b[39;00m\n\u001b[0;32m     16\u001b[0m         \u001b[38;5;28;01mreturn\u001b[39;00m cache[args]\n",
      "\u001b[1;31mTypeError\u001b[0m: val_inp() takes 0 positional arguments but 1 was given"
     ]
    }
   ],
   "source": [
    "# Memorization Decorator: \n",
    "\n",
    "# Create a decorator for memorization, which stores the results of expensive function calls and returns the cached result when the same inputs occur again. \n",
    "\n",
    "def decor(func):\n",
    "    cache = {}\n",
    "\n",
    "    def memorize(*args):\n",
    "        # val = func()\n",
    "        # lst = []\n",
    "        if args not in cache:\n",
    "            # lst.append(val)\n",
    "            # print(lst)\n",
    "            cache[args] = func(args)\n",
    "            # val_inp()\n",
    "            return cache[args]\n",
    "        # result = func(*args)\n",
    "        # cache[args] = result\n",
    "        # return result\n",
    "        # else:\n",
    "            # print(lst)\n",
    "    return memorize\n",
    "\n",
    "@ decor\n",
    "def val_inp():\n",
    "    val  = input(\"Enter Your name\")\n",
    "    val_inp(val)\n",
    "    return val\n",
    "\n",
    "val_inp()\n",
    "        \n"
   ]
  },
  {
   "cell_type": "code",
   "execution_count": 13,
   "id": "df71af3f",
   "metadata": {},
   "outputs": [
    {
     "name": "stdout",
     "output_type": "stream",
     "text": [
      "Authenticate\n"
     ]
    }
   ],
   "source": [
    "# Authentication Decorator: \n",
    "\n",
    "# Implement a decorator that checks if a user is authenticated before allowing access to a specific function. \n",
    "def decor(func):\n",
    "    cn = {\"pinkal\":\"1234\"}\n",
    "    def authenticate(*args,**kwargs):\n",
    "        val = func(*args,**kwargs)\n",
    "        val = args[0]\n",
    "        if args[0] in cn and cn[args[0]] == args[1]:\n",
    "            print(\"Authenticate\")\n",
    "        else:\n",
    "            print(\"Invalid username and password\")\n",
    "    return authenticate\n",
    "\n",
    "@decor\n",
    "def user(id1,pass1):\n",
    "   return 0\n",
    "\n",
    "\n",
    "user_id = input(\"Enter name\")\n",
    "user_pass = input(\"Enter a passsword\")\n",
    "user(user_id,user_pass)"
   ]
  },
  {
   "cell_type": "markdown",
   "id": "5ebe4122",
   "metadata": {},
   "source": [
    "Context Managers"
   ]
  },
  {
   "cell_type": "code",
   "execution_count": null,
   "id": "f23e5146",
   "metadata": {},
   "outputs": [],
   "source": []
  },
  {
   "cell_type": "code",
   "execution_count": null,
   "id": "02122428",
   "metadata": {},
   "outputs": [],
   "source": []
  }
 ],
 "metadata": {
  "kernelspec": {
   "display_name": "Python 3 (ipykernel)",
   "language": "python",
   "name": "python3"
  },
  "language_info": {
   "codemirror_mode": {
    "name": "ipython",
    "version": 3
   },
   "file_extension": ".py",
   "mimetype": "text/x-python",
   "name": "python",
   "nbconvert_exporter": "python",
   "pygments_lexer": "ipython3",
   "version": "3.11.5"
  }
 },
 "nbformat": 4,
 "nbformat_minor": 5
}
