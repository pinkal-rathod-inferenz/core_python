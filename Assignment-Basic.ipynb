{
 "cells": [
  {
   "cell_type": "code",
   "execution_count": 1,
   "id": "7507b8f6",
   "metadata": {},
   "outputs": [
    {
     "name": "stdout",
     "output_type": "stream",
     "text": [
      "12.566370614359172\n"
     ]
    }
   ],
   "source": [
    "# Create a program that calculates the area of a circle given its radius. \n",
    "import math as m\n",
    "rad = float(input(\"Radius: \"))\n",
    "\n",
    "sol = (m.pi)*pow(rad,2)\n",
    "print(sol)"
   ]
  },
  {
   "cell_type": "code",
   "execution_count": 2,
   "id": "9ffefdb6",
   "metadata": {},
   "outputs": [
    {
     "name": "stdout",
     "output_type": "stream",
     "text": [
      "0 It is Armstrong Number\n",
      "1 It is Armstrong Number\n",
      "153 It is Armstrong Number\n",
      "370 It is Armstrong Number\n",
      "371 It is Armstrong Number\n",
      "407 It is Armstrong Number\n"
     ]
    }
   ],
   "source": [
    "# Find Armstrong number in range (0,1000)\n",
    "\n",
    "def armstng(n):\n",
    "    if n != 1001:\n",
    "        sum =0\n",
    "        temp = n\n",
    "        while(temp>0):\n",
    "            rem = temp%10\n",
    "            sum=sum+pow(rem,3)\n",
    "            temp = temp//10\n",
    "        if sum == n:\n",
    "            print(n,\"It is Armstrong Number\")\n",
    "        return armstng(n+1)\n",
    "\n",
    "        \n",
    "armstng(0)    \n"
   ]
  },
  {
   "cell_type": "code",
   "execution_count": 3,
   "id": "4a5afd35",
   "metadata": {},
   "outputs": [
    {
     "name": "stdout",
     "output_type": "stream",
     "text": [
      "Prime Number\n"
     ]
    }
   ],
   "source": [
    "# Check where the given number is prime or not? \n",
    "\n",
    "def chk_prime(n):\n",
    "    if(n%5 != 0 and n!=5 and n%1==0):\n",
    "        print(\"Prime Number\")\n",
    "    elif(n==5):\n",
    "        print(\"Prime Number\")\n",
    "    else:\n",
    "        print(\"Non-Prime\")\n",
    "chk_prime(72)"
   ]
  },
  {
   "cell_type": "code",
   "execution_count": 4,
   "id": "f469a98e",
   "metadata": {},
   "outputs": [
    {
     "data": {
      "text/plain": [
       "{'a': 0, 'e': 0, 'i': 0, 'o': 0, 'u': 0}"
      ]
     },
     "execution_count": 4,
     "metadata": {},
     "output_type": "execute_result"
    }
   ],
   "source": [
    "# Implement a program that counts the number of vowels in a given string. \n",
    "vow = ['a','e','i','o','u']\n",
    "cnt = [0,0,0,0,0]\n",
    "vow_cnt=dict(zip(vow,cnt))\n",
    "str = input(\"Enter a string: \")\n",
    "for ch in str:\n",
    "    if ch in vow:\n",
    "        vow_cnt[ch]+=1 \n",
    "vow_cnt"
   ]
  },
  {
   "cell_type": "code",
   "execution_count": 5,
   "id": "fae78000",
   "metadata": {},
   "outputs": [
    {
     "name": "stdout",
     "output_type": "stream",
     "text": [
      "Not \n"
     ]
    }
   ],
   "source": [
    "# Create a program that checks if a given word, is a palindrome. \n",
    "\n",
    "str = input(\"Enter a word: \")\n",
    "rev_str = str[::-1]\n",
    "if(str == rev_str):\n",
    "    print(\"Palindrome String\")\n",
    "else:\n",
    "    print(\"Not \")"
   ]
  },
  {
   "cell_type": "code",
   "execution_count": 6,
   "id": "3e813b7f",
   "metadata": {},
   "outputs": [
    {
     "data": {
      "text/plain": [
       "[1, 4, 9, 16, 25, 36, 49, 64, 81]"
      ]
     },
     "execution_count": 6,
     "metadata": {},
     "output_type": "execute_result"
    }
   ],
   "source": [
    "# Write a one-liner using list comprehension to generate a list of squares of numbers from 1 to 10. \n",
    "\n",
    "num_sq = [pow(sq,2) for sq in range(1,10) ]\n",
    "num_sq"
   ]
  },
  {
   "cell_type": "code",
   "execution_count": 7,
   "id": "b96c3327",
   "metadata": {},
   "outputs": [
    {
     "data": {
      "text/plain": [
       "['132.80', '152.60', '93.20', '212.00', '109.40', '32.00']"
      ]
     },
     "execution_count": 7,
     "metadata": {},
     "output_type": "execute_result"
    }
   ],
   "source": [
    "# Implement a function that takes a list of temperatures in Celsius and uses the map function to convert them to Fahrenheit. \n",
    "def cn_frht(x):\n",
    "    fht = (1.8*x) +32\n",
    "    return \"%.2f\" % fht\n",
    "\n",
    "lst = list(map(cn_frht,[56,67,34,100,43,0]))\n",
    "lst\n"
   ]
  },
  {
   "cell_type": "code",
   "execution_count": 8,
   "id": "769b352a",
   "metadata": {},
   "outputs": [
    {
     "name": "stdout",
     "output_type": "stream",
     "text": [
      "Even Number\n"
     ]
    }
   ],
   "source": [
    "# Implement a program that checks if a given number is even or odd without modular operator. \n",
    "def chk_num(n):\n",
    "    if n & 1 == 0:\n",
    "        print(\"Even Number\")\n",
    "    else:\n",
    "        print(\"Odd number\")\n",
    "num = int(input(\"Enter Number\"))\n",
    "chk_num(num)\n",
    "\n"
   ]
  },
  {
   "cell_type": "code",
   "execution_count": 9,
   "id": "c22eb444",
   "metadata": {},
   "outputs": [
    {
     "name": "stdout",
     "output_type": "stream",
     "text": [
      "Not Leap Year\n"
     ]
    }
   ],
   "source": [
    "# Write a program that determines whether a year is a leap year or not. \n",
    "\n",
    "year = int(input(\"Enter year : \"))\n",
    "if year%4==0 | year%100==0:\n",
    "    print(\"Leap Year\")\n",
    "else:\n",
    "    print(\"Not Leap Year\")"
   ]
  },
  {
   "cell_type": "code",
   "execution_count": 10,
   "id": "eff0c0f0",
   "metadata": {},
   "outputs": [
    {
     "name": "stdout",
     "output_type": "stream",
     "text": [
      "\n",
      "\n",
      "*  \n",
      "\n",
      "*  *  \n",
      "\n",
      "*  *  *  \n",
      "\n",
      "*  *  *  *  \n",
      "\n"
     ]
    }
   ],
   "source": [
    "# Create a program to print a right-angled triangle pattern using asterisks. \n",
    "n = int(input(\"Enter a Number: \"))\n",
    "for i in range(n+1):\n",
    "    for j in range(i):\n",
    "        print(\"* \",end=\" \")\n",
    "    print(\"\\n\")"
   ]
  },
  {
   "cell_type": "code",
   "execution_count": 11,
   "id": "4de22385",
   "metadata": {},
   "outputs": [
    {
     "name": "stdout",
     "output_type": "stream",
     "text": [
      "0   1   1   2   3   "
     ]
    }
   ],
   "source": [
    "# Write a program to print the Fibonacci sequence up to a specified number of terms. \n",
    "n = int(input(\"Enter a Number: \"))\n",
    "a = 0;b=1\n",
    "for i in range(n+1):\n",
    "    print(a,\" \",end=\" \")\n",
    "    a,b=b+a,a"
   ]
  },
  {
   "cell_type": "code",
   "execution_count": null,
   "id": "f7854be1",
   "metadata": {},
   "outputs": [],
   "source": []
  },
  {
   "cell_type": "code",
   "execution_count": 9,
   "id": "f192948e",
   "metadata": {},
   "outputs": [
    {
     "name": "stdout",
     "output_type": "stream",
     "text": [
      "3\n",
      "2\n",
      "1\n"
     ]
    }
   ],
   "source": [
    "for i in range(3,0,-1):\n",
    "    print(i)"
   ]
  },
  {
   "cell_type": "code",
   "execution_count": 18,
   "id": "dadddb26",
   "metadata": {},
   "outputs": [
    {
     "name": "stdout",
     "output_type": "stream",
     "text": [
      "Enter a number4\n",
      "4   \n",
      "\n",
      "4   3   \n",
      "\n",
      "4   3   2   \n",
      "\n",
      "4   3   2   1   \n",
      "\n"
     ]
    }
   ],
   "source": [
    "# Implement a program to generate the following pattern: \n",
    "'''\n",
    "\n",
    "4 \n",
    "\n",
    "4 3 \n",
    "\n",
    "4 3 2 \n",
    "\n",
    "4 3 2 1 \n",
    "\n",
    "'''\n",
    "\n",
    "num = int(input(\"Enter a number\"))\n",
    "for i in range(1,num+1):\n",
    "#     print(i,\"iteration\")\n",
    "    for j in range(num,num-i,-1):\n",
    "        print(j,\" \",end=\" \")\n",
    "    print(\"\\n\")"
   ]
  },
  {
   "cell_type": "code",
   "execution_count": 32,
   "id": "7b3f447a",
   "metadata": {},
   "outputs": [
    {
     "name": "stdout",
     "output_type": "stream",
     "text": [
      "Enter a number4\n",
      "    4   \n",
      "\n",
      "   4   3   \n",
      "\n",
      "  4   3   2   \n",
      "\n",
      " 4   3   2   1   \n",
      "\n"
     ]
    }
   ],
   "source": [
    "'''\n",
    "   4 \n",
    "\n",
    "  4 3 \n",
    "\n",
    " 4 3 2 \n",
    "\n",
    "4 3 2 1 \n",
    "'''\n",
    "num = int(input(\"Enter a number\"))\n",
    "for i in range(1,num+1):\n",
    "#     print(i,\"iteration\")\n",
    "    print(\" \"*(num-i),end=\" \")\n",
    "    for j in range(num,num-i,-1):\n",
    "        print(j,\" \",end=\" \")\n",
    "    print(\"\\n\")"
   ]
  },
  {
   "cell_type": "code",
   "execution_count": 14,
   "id": "13fd4800",
   "metadata": {},
   "outputs": [],
   "source": [
    "# Write a program to read data from a file and display it on the console.\n",
    "f = open(\"file.txt\",\"r+\")\n",
    "line = \"ghdgfjfytukdtuyhdjmytnjy \\ndfhdfghkmjmdrfghkmdty \\ndfjdghkcdyhsmk,ryjrytjuyt\"\n",
    "f.write(line)\n",
    "f.close()\n"
   ]
  },
  {
   "cell_type": "code",
   "execution_count": 15,
   "id": "d722e413",
   "metadata": {},
   "outputs": [
    {
     "name": "stdout",
     "output_type": "stream",
     "text": [
      "ghdgfjfytukdtuyhdjmytnjy \n",
      "dfhdfghkmjmdrfghkmdty \n",
      "dfjdghkcdyhsmk,ryjrytjuytyt\n"
     ]
    }
   ],
   "source": [
    "f = open(\"file.txt\",\"r+\")\n",
    "# while f:\n",
    "print(f.read())\n",
    "#     if not line:\n",
    "#         break\n",
    "f.close()"
   ]
  },
  {
   "cell_type": "code",
   "execution_count": 1,
   "id": "0dcfc270",
   "metadata": {},
   "outputs": [],
   "source": [
    "import pickle"
   ]
  },
  {
   "cell_type": "code",
   "execution_count": 3,
   "id": "7e7dfd2c",
   "metadata": {},
   "outputs": [],
   "source": [
    "# Pickling\n",
    "cars = [\"maruti\",\"suzuki\",\"lenovo\",\"duster\"]\n",
    "bike = [\"maruti\",\"suzuki\",\"lenovo\",\"duster\"]\n",
    "file= \"mycar.pkl\"\n",
    "f = open(file,\"wb\")\n",
    "pickle.dump([bike,cars],f)\n",
    "f.close()\n"
   ]
  },
  {
   "cell_type": "code",
   "execution_count": 5,
   "id": "8bf3a365",
   "metadata": {},
   "outputs": [
    {
     "name": "stdout",
     "output_type": "stream",
     "text": [
      "[['maruti', 'suzuki', 'lenovo', 'duster'], ['maruti', 'suzuki', 'lenovo', 'duster']]\n",
      "<class 'list'>\n"
     ]
    }
   ],
   "source": [
    "file = \"mycar.pkl\"\n",
    "f = open(file,\"rb\")\n",
    "mycar = pickle.load(f)\n",
    "print(mycar)\n",
    "f.close()\n",
    "print(type(mycar))"
   ]
  },
  {
   "cell_type": "code",
   "execution_count": 6,
   "id": "5c50c5b4",
   "metadata": {},
   "outputs": [],
   "source": [
    "# Create a program that writes a list of numbers to a pickle file. \n",
    "num = [1,2,3,4,5,6,7,8,9,10]\n",
    "file = \"mynum.pkl\"\n",
    "f = open(file,\"wb\")\n",
    "pickle.dump(num,f)\n",
    "f.close()"
   ]
  },
  {
   "cell_type": "code",
   "execution_count": 47,
   "id": "8c71f73e",
   "metadata": {},
   "outputs": [
    {
     "name": "stdout",
     "output_type": "stream",
     "text": [
      "6\n"
     ]
    }
   ],
   "source": [
    "# Implement a program that generates a random number between a specified range. \n",
    "\n",
    "import random as rd\n",
    "\n",
    "print(rd.randint(0,10))"
   ]
  },
  {
   "cell_type": "code",
   "execution_count": 61,
   "id": "dc0d52e6",
   "metadata": {},
   "outputs": [
    {
     "name": "stdout",
     "output_type": "stream",
     "text": [
      "7\n"
     ]
    }
   ],
   "source": [
    "# Write a program that simulates a dice roll. \n",
    "\n",
    "import random as rd\n",
    "\n",
    "print(rd.randint(1,6))"
   ]
  },
  {
   "cell_type": "code",
   "execution_count": 65,
   "id": "9b2f7fa7",
   "metadata": {},
   "outputs": [
    {
     "name": "stdout",
     "output_type": "stream",
     "text": [
      "120\n"
     ]
    }
   ],
   "source": [
    "# Create a function to calculate the factorial of a list of numbers. \n",
    "\n",
    "def fact(n):\n",
    "    if n==1 & n==0:\n",
    "        return 1\n",
    "    else:\n",
    "        return n*fact(n-1)\n",
    "print(fact(5))"
   ]
  },
  {
   "cell_type": "code",
   "execution_count": 26,
   "id": "1ff6c9e5",
   "metadata": {},
   "outputs": [
    {
     "name": "stdout",
     "output_type": "stream",
     "text": [
      "6\n"
     ]
    }
   ],
   "source": [
    "# Write a function that returns the greatest common divisor (GCD) of two numbers. \n",
    "def gcd(n1,n2):\n",
    "    if n1 > n2:\n",
    "        num = n2\n",
    "    else:\n",
    "        num = n1\n",
    "    for i in range(1,num+1):\n",
    "        if n1%i == 0 and n2%i == 0:\n",
    "            prod = i\n",
    "    return prod\n",
    "num1 = int(input(\"Emter num1\"))\n",
    "num2 = int(input(\"Emter num2\"))\n",
    "print(gcd(num1,num2))\n"
   ]
  },
  {
   "cell_type": "code",
   "execution_count": 33,
   "id": "0752aa81",
   "metadata": {},
   "outputs": [
    {
     "name": "stdout",
     "output_type": "stream",
     "text": [
      "Entered number is prime\n"
     ]
    }
   ],
   "source": [
    "# Solve prime number using recursion. \n",
    "\n",
    "def fact(n,i=2):\n",
    "    if i==n:\n",
    "      return True  \n",
    "    if n%i == 0:\n",
    "        return False\n",
    "    return fact(n,i+1)\n",
    "num = int(input(\"Enter number\"))\n",
    "if fact(num):\n",
    "   print(\"Entered number is prime\")\n",
    "else:\n",
    "   print(\"Entered number is not prime\")"
   ]
  },
  {
   "cell_type": "code",
   "execution_count": 5,
   "id": "93f25e8f",
   "metadata": {},
   "outputs": [
    {
     "name": "stdout",
     "output_type": "stream",
     "text": [
      "pinkal is good\n",
      "{'p': 1, 'i': 2, 'n': 1, 'k': 1, 'a': 1, 'l': 1, ' ': 2, 's': 1, 'g': 1, 'o': 2, 'd': 1}\n"
     ]
    }
   ],
   "source": [
    "# Write a program that counts the frequency of each character in a given string and stores it in a dictionary. \n",
    "\n",
    "d1 = {}\n",
    "str = input(\"Enter a string\")\n",
    "str = str.replace(\" \",\"\")\n",
    "print(str)\n",
    "for ch in str:\n",
    "    if ch in d1:\n",
    "        d1[ch] += 1\n",
    "    else:\n",
    "        d1[ch] = 1\n",
    "print(d1)"
   ]
  },
  {
   "cell_type": "code",
   "execution_count": 9,
   "id": "07104033",
   "metadata": {},
   "outputs": [
    {
     "name": "stdout",
     "output_type": "stream",
     "text": [
      "{'rabbit': [1, 2, 3, 4], 'tortoise': 5678, 'giraffe': 'animal', 'rab': [1, 2], 'to': 'file', 'gi': 78.9}\n"
     ]
    }
   ],
   "source": [
    "# Create a program that combines two dictionaries into a new one. \n",
    "dict1 = {\"rabbit\":[1,2,3,4],\"tortoise\":5678,\"giraffe\":\"animal\"}\n",
    "dict2 = {\"rab\":[1,2],\"to\":\"file\",\"gi\":78.90}\n",
    "dict_new = dict1 | dict2\n",
    "print(dict_new)"
   ]
  },
  {
   "cell_type": "code",
   "execution_count": 20,
   "id": "97e296a2",
   "metadata": {},
   "outputs": [
    {
     "name": "stdout",
     "output_type": "stream",
     "text": [
      "{'rabbit': [4, 5, 6], 'giraffe': 'animal'} {'rab': [1, 2], 'gi': 78.9}\n",
      "{'rab': [1, 2], 'gi': 78.9, 'open': 'print'}\n",
      "{'mango': 1, 'apple': 5, 'banana': 7}\n",
      "apple 5\n",
      "banana 7\n",
      "mango 1\n",
      "apple 5\n",
      "banana 7\n",
      "mango 1\n",
      "{'apple': 5, 'orange': 8}\n"
     ]
    }
   ],
   "source": [
    "# Update, remove, add operations sort, threshold filtering. \n",
    "dict1 = {\"rabbit\":[1,2,3,4],\"tortoise\":5678,\"giraffe\":\"animal\"}\n",
    "dict2 = {\"rab\":[1,2],\"to\":\"file\",\"gi\":78.90}\n",
    "dict3 = {\"mango\":1,\"apple\":5,\"banana\":7}\n",
    "\n",
    "# Update \n",
    "dict1[\"rabbit\"] = [4,5,6]\n",
    "\n",
    "# Delete\n",
    "del(dict1[\"tortoise\"])\n",
    "dict2.pop(\"to\")\n",
    "print(dict1,dict2)\n",
    "\n",
    "# Add\n",
    "dict2[\"open\"] = \"print\"\n",
    "print(dict2)\n",
    "\n",
    "# Sorting\n",
    "sorted_dict = sorted(dict3.keys())\n",
    "print(dict3)\n",
    "for key in sorted_dict:\n",
    "    print(key,dict3[key])\n",
    "\n",
    "sorted_items = sorted(dict3.items(), key=lambda x: x[0])\n",
    "for key, value in sorted_items:\n",
    "    print(key, value)\n",
    "\n",
    "# Thresholding Filtering\n",
    "dict4 = {'apple': 5, 'banana': 3, 'orange': 8} \n",
    "th = 4\n",
    "filter_dict = {key : value for key,value in dict4.items() if value > th}\n",
    "print(filter_dict)"
   ]
  },
  {
   "cell_type": "code",
   "execution_count": 23,
   "id": "6305472f",
   "metadata": {},
   "outputs": [
    {
     "name": "stdout",
     "output_type": "stream",
     "text": [
      "ZeroDivisionError: problem is occured\n",
      "The error is solved\n"
     ]
    }
   ],
   "source": [
    "# Implement a program that handles exceptions for division by zero. \n",
    "num = int(input(\"Enter a number\"))\n",
    "try:\n",
    "    print(num/0)\n",
    "except ZeroDivisionError:\n",
    "    print(\"ZeroDivisionError: problem is occured\")\n",
    "finally:\n",
    "    print(\"The error is solved\")\n",
    "\n",
    "\n"
   ]
  },
  {
   "cell_type": "code",
   "execution_count": 8,
   "id": "5e538118",
   "metadata": {},
   "outputs": [
    {
     "name": "stdout",
     "output_type": "stream",
     "text": [
      "The input is not a valid number\n",
      "The entered number is  56y\n"
     ]
    }
   ],
   "source": [
    "# Write a program that prompts the user to enter a number and handles the Value Error if the input is not a valid number. \n",
    "try:\n",
    "    num = input(\"Enter a number\")\n",
    "    num = int(num)\n",
    "except ValueError:\n",
    "    print(\"The input is not a valid number\")\n",
    "finally:\n",
    "    print(\"The entered number is \",num)\n",
    "\n",
    "   "
   ]
  },
  {
   "cell_type": "markdown",
   "id": "bd81413c",
   "metadata": {},
   "source": [
    "#Array"
   ]
  },
  {
   "cell_type": "code",
   "execution_count": 2,
   "id": "56749d23",
   "metadata": {},
   "outputs": [],
   "source": [
    "from array import *"
   ]
  },
  {
   "cell_type": "code",
   "execution_count": 9,
   "id": "e580d618",
   "metadata": {},
   "outputs": [
    {
     "name": "stdout",
     "output_type": "stream",
     "text": [
      "array('d', [1.0, 2.0, 3.0, 4.0])\n",
      "1 2 3 4 "
     ]
    }
   ],
   "source": [
    "x = array('d',[])\n",
    "arr1 = array('d',[1,2,3,4])\n",
    "print(arr1)\n",
    "for i in arr1:\n",
    "    print(\"%d\" % i,end= \" \")\n",
    "\n",
    "# a.append(x)\n",
    "#a.count(x) \n",
    "#a.extend(x) \n",
    "#a.index(x) \n",
    "#a.insert(i,x) \n",
    "#a.pop() \n",
    "#a.pop(x) \n",
    "#a.remove(x) \n",
    "#a.reverse() \n",
    "#a.tofile(f) :- write elements in file f \n",
    "#a.tolist() :- convert elements in list  like a.tostring()\n",
    "# a.fromfile(f,n):-reads from file and appends to end of array\n",
    "# a.fromlist(f,n):-reads from list and appends to end of array\n",
    "# a.fromstring(f,n):-reads from string and appends to end of array"
   ]
  },
  {
   "cell_type": "code",
   "execution_count": 10,
   "id": "15d15c12",
   "metadata": {},
   "outputs": [],
   "source": [
    "import numpy as np"
   ]
  },
  {
   "cell_type": "code",
   "execution_count": 13,
   "id": "1224322a",
   "metadata": {},
   "outputs": [
    {
     "data": {
      "text/plain": [
       "array([ 0. ,  2.5,  5. ,  7.5, 10. ])"
      ]
     },
     "execution_count": 13,
     "metadata": {},
     "output_type": "execute_result"
    }
   ],
   "source": [
    "a = np.linspace(0,10,5)\n",
    "a"
   ]
  },
  {
   "cell_type": "code",
   "execution_count": 27,
   "id": "5dbd4659",
   "metadata": {},
   "outputs": [
    {
     "data": {
      "text/plain": [
       "array([   10.        ,    56.23413252,   316.22776602,  1778.27941004,\n",
       "       10000.        ])"
      ]
     },
     "execution_count": 27,
     "metadata": {},
     "output_type": "execute_result"
    }
   ],
   "source": [
    "a = np.logspace(1,4,5)\n",
    "a"
   ]
  },
  {
   "cell_type": "code",
   "execution_count": 35,
   "id": "535bc5ae",
   "metadata": {},
   "outputs": [
    {
     "data": {
      "text/plain": [
       "(array([ 1,  2,  3,  4,  5,  6,  7,  8,  9, 10, 11]),\n",
       " array([10,  9,  8,  7,  6,  5,  4,  3,  2]))"
      ]
     },
     "execution_count": 35,
     "metadata": {},
     "output_type": "execute_result"
    }
   ],
   "source": [
    "a = np.arange(1,10+2); b=np.arange(10,1,-1)\n",
    "a,b"
   ]
  },
  {
   "cell_type": "code",
   "execution_count": 40,
   "id": "7fc3018c",
   "metadata": {},
   "outputs": [
    {
     "data": {
      "text/plain": [
       "array([1., 1., 1., 1., 1.])"
      ]
     },
     "execution_count": 40,
     "metadata": {},
     "output_type": "execute_result"
    }
   ],
   "source": [
    "a = np.zeros(5,int); b = np.ones(5)\n",
    "a+b"
   ]
  },
  {
   "cell_type": "markdown",
   "id": "cf99444a",
   "metadata": {},
   "source": [
    "sin,cos,tan,max,min,sum,mean,median,var,cov,std,argmin,argmax,unique,sort,concatenate functions can be done in numpy array"
   ]
  },
  {
   "cell_type": "code",
   "execution_count": 43,
   "id": "9a1107f9",
   "metadata": {},
   "outputs": [
    {
     "name": "stdout",
     "output_type": "stream",
     "text": [
      "Result od a==b [False  True  True False]\n",
      "Result od a>b [ True False False False]\n",
      "Result od a<=b [False  True  True  True]\n",
      "Check if any element is matching True\n",
      "Check if all element is matching False\n"
     ]
    }
   ],
   "source": [
    "a = np.array([1,2,3,0])\n",
    "b = np.array([0,2,3,1])\n",
    "\n",
    "c= a == b\n",
    "print(\"Result od a==b\",c)\n",
    "print(\"Result od a>b\",a>b)\n",
    "print(\"Result od a<=b\",a<=b)\n",
    "print(\"Check if any element is matching\",any(c))\n",
    "print(\"Check if all element is matching\",all(c))\n"
   ]
  },
  {
   "cell_type": "code",
   "execution_count": 44,
   "id": "68be7dbc",
   "metadata": {},
   "outputs": [
    {
     "name": "stdout",
     "output_type": "stream",
     "text": [
      "[ True  True  True]\n",
      "[ True  True  True]\n",
      "[False False False]\n"
     ]
    }
   ],
   "source": [
    "a = np.array([1,2,3],int)\n",
    "b = np.array([0,2,3],int)\n",
    "c = np.logical_and(a>0,a<4)\n",
    "print(c)\n",
    "c = np.logical_or(b>=0,b==1)\n",
    "print(c)\n",
    "c = np.logical_not(a>0,a<4)\n",
    "print(c)"
   ]
  },
  {
   "cell_type": "markdown",
   "id": "ef9970e5",
   "metadata": {},
   "source": [
    "a = b Just aliasing\n",
    "b = a.view() is modify can modify the original\n",
    "b = a.copy() is having seperate 2 arrays independent of each other"
   ]
  },
  {
   "cell_type": "code",
   "execution_count": 58,
   "id": "2b5f6074",
   "metadata": {},
   "outputs": [
    {
     "name": "stdout",
     "output_type": "stream",
     "text": [
      "2\n",
      "(2, 4)\n",
      "8\n",
      "4\n",
      "int32\n",
      "32\n",
      "[[ 1  2]\n",
      " [34  4]\n",
      " [ 1  2]\n",
      " [ 3  4]]\n",
      "[ 1  2 34  4  1  2  3  4]\n"
     ]
    }
   ],
   "source": [
    "a =  np.array([[1,2,34,4],[1,2,3,4]],int)\n",
    "print(a.ndim)\n",
    "print(a.shape)\n",
    "print(a.size)\n",
    "print(a.itemsize)\n",
    "print(a.dtype)\n",
    "print(a.nbytes)\n",
    "print(a.reshape(4,2))\n",
    "print(a.flatten())"
   ]
  },
  {
   "cell_type": "markdown",
   "id": "df71eae0",
   "metadata": {},
   "source": [
    "A python program to accept two matrices and find it's product"
   ]
  },
  {
   "cell_type": "code",
   "execution_count": 63,
   "id": "855ec77b",
   "metadata": {},
   "outputs": [
    {
     "name": "stdout",
     "output_type": "stream",
     "text": [
      "[[1 2 3]\n",
      " [4 5 6]]\n",
      "[[ 1  0]\n",
      " [ 0  2]\n",
      " [ 1 -1]]\n",
      "[[ 4  1]\n",
      " [10  4]]\n"
     ]
    }
   ],
   "source": [
    "import numpy as np\n",
    "import sys\n",
    "\n",
    "r1, c1 = [int(a) for a in input(\"First matric rows , columns : \").split()]\n",
    "r2, c2 = [int(a) for a in input(\"Second matric rows , columns : \").split()]\n",
    "if c1!=r2:\n",
    "    print(\"Multiplication is not possible\")\n",
    "    sys.exit()\n",
    "str1 = input(\"First matrix elements\")\n",
    "x = np.reshape(np.matrix(str1),(r1,c1))\n",
    "print(x)\n",
    "str2 = input(\"Second matrix elements\")\n",
    "y = np.reshape(np.matrix(str2),(r2,c2))\n",
    "print(y)\n",
    "z = x*y\n",
    "print(z)"
   ]
  },
  {
   "cell_type": "markdown",
   "id": "b86dae5e",
   "metadata": {},
   "source": [
    "Generators"
   ]
  },
  {
   "cell_type": "code",
   "execution_count": 17,
   "id": "5943bd5e",
   "metadata": {},
   "outputs": [
    {
     "name": "stdout",
     "output_type": "stream",
     "text": [
      "0\n",
      "1\n",
      "1\n",
      "2\n",
      "3\n"
     ]
    }
   ],
   "source": [
    "# Fibonacci Generator: \n",
    "\n",
    "# Implement a generator that generates the Fibonacci sequence up to a specified limit.\n",
    "\n",
    "def fib_generator(n):\n",
    "    a  = 0;b=1\n",
    "    while(a < n):\n",
    "       \n",
    "        yield a \n",
    "        a,b =b,a+b\n",
    "\n",
    "num = int(input())\n",
    "for i in fib_generator(num):\n",
    "    print(i)"
   ]
  },
  {
   "cell_type": "markdown",
   "id": "9d9b4aae",
   "metadata": {},
   "source": [
    "Decorators"
   ]
  },
  {
   "cell_type": "code",
   "execution_count": 1,
   "id": "dfba549c",
   "metadata": {},
   "outputs": [
    {
     "name": "stdout",
     "output_type": "stream",
     "text": [
      "12\n"
     ]
    }
   ],
   "source": [
    "def decor(fun):\n",
    "    def inner():\n",
    "        value = fun()\n",
    "        return value+2\n",
    "    return inner\n",
    "\n",
    "def num():\n",
    "    return 10\n",
    "\n",
    "result_fun = decor(num)\n",
    "print(result_fun())\n",
    "\n"
   ]
  },
  {
   "cell_type": "code",
   "execution_count": 24,
   "id": "77566a2c",
   "metadata": {},
   "outputs": [
    {
     "name": "stdout",
     "output_type": "stream",
     "text": [
      "The start time is  1706186952.6722326\n",
      "The running time is  1.0\n"
     ]
    }
   ],
   "source": [
    "# Timing Decorator: Implement a decorator that calculates and prints the execution time of a function. \n",
    "import time\n",
    "\n",
    "def decor(func):\n",
    "    def run_time():\n",
    "        val = func()\n",
    "        print(\"The running time is \",val-time.time()+1)\n",
    "    return run_time\n",
    "\n",
    "@decor\n",
    "def str_time():\n",
    "    print(\"The start time is \",time.time())\n",
    "    return time.time() \n",
    "\n",
    "str_time()\n",
    "\n",
    "\n"
   ]
  },
  {
   "cell_type": "code",
   "execution_count": 19,
   "id": "9bbe88e6",
   "metadata": {},
   "outputs": [
    {
     "ename": "TypeError",
     "evalue": "val_inp() takes 0 positional arguments but 1 was given",
     "output_type": "error",
     "traceback": [
      "\u001b[1;31m---------------------------------------------------------------------------\u001b[0m",
      "\u001b[1;31mTypeError\u001b[0m                                 Traceback (most recent call last)",
      "Cell \u001b[1;32mIn[19], line 29\u001b[0m\n\u001b[0;32m     26\u001b[0m     val  \u001b[38;5;241m=\u001b[39m \u001b[38;5;28minput\u001b[39m(\u001b[38;5;124m\"\u001b[39m\u001b[38;5;124mEnter Your name\u001b[39m\u001b[38;5;124m\"\u001b[39m)\n\u001b[0;32m     27\u001b[0m     \u001b[38;5;28;01mreturn\u001b[39;00m val\n\u001b[1;32m---> 29\u001b[0m val_inp()\n",
      "Cell \u001b[1;32mIn[19], line 14\u001b[0m, in \u001b[0;36mdecor.<locals>.memorize\u001b[1;34m(*args)\u001b[0m\n\u001b[0;32m      8\u001b[0m \u001b[38;5;28;01mdef\u001b[39;00m \u001b[38;5;21mmemorize\u001b[39m(\u001b[38;5;241m*\u001b[39margs):\n\u001b[0;32m      9\u001b[0m     \u001b[38;5;66;03m# val = func()\u001b[39;00m\n\u001b[0;32m     10\u001b[0m     \u001b[38;5;66;03m# lst = []\u001b[39;00m\n\u001b[0;32m     11\u001b[0m     \u001b[38;5;28;01mif\u001b[39;00m args \u001b[38;5;129;01mnot\u001b[39;00m \u001b[38;5;129;01min\u001b[39;00m cache:\n\u001b[0;32m     12\u001b[0m         \u001b[38;5;66;03m# lst.append(val)\u001b[39;00m\n\u001b[0;32m     13\u001b[0m         \u001b[38;5;66;03m# print(lst)\u001b[39;00m\n\u001b[1;32m---> 14\u001b[0m         cache[args] \u001b[38;5;241m=\u001b[39m func(args)\n\u001b[0;32m     15\u001b[0m         \u001b[38;5;66;03m# val_inp()\u001b[39;00m\n\u001b[0;32m     16\u001b[0m         \u001b[38;5;28;01mreturn\u001b[39;00m cache[args]\n",
      "\u001b[1;31mTypeError\u001b[0m: val_inp() takes 0 positional arguments but 1 was given"
     ]
    }
   ],
   "source": [
    "# Memorization Decorator: \n",
    "\n",
    "# Create a decorator for memorization, which stores the results of expensive function calls and returns the cached result when the same inputs occur again. \n",
    "\n",
    "def decor(func):\n",
    "    cache = {}\n",
    "\n",
    "    def memorize(*args):\n",
    "        # val = func()\n",
    "        # lst = []\n",
    "        if args not in cache:\n",
    "            # lst.append(val)\n",
    "            # print(lst)\n",
    "            cache[args] = func(args)\n",
    "            # val_inp()\n",
    "            return cache[args]\n",
    "        # result = func(*args)\n",
    "        # cache[args] = result\n",
    "        # return result\n",
    "        # else:\n",
    "            # print(lst)\n",
    "    return memorize\n",
    "\n",
    "@ decor\n",
    "def val_inp():\n",
    "    val  = input(\"Enter Your name\")\n",
    "    val_inp(val)\n",
    "    return val\n",
    "\n",
    "val_inp()\n",
    "        \n"
   ]
  },
  {
   "cell_type": "code",
   "execution_count": 13,
   "id": "df71af3f",
   "metadata": {},
   "outputs": [
    {
     "name": "stdout",
     "output_type": "stream",
     "text": [
      "Authenticate\n"
     ]
    }
   ],
   "source": [
    "# Authentication Decorator: \n",
    "\n",
    "# Implement a decorator that checks if a user is authenticated before allowing access to a specific function. \n",
    "def decor(func):\n",
    "    cn = {\"pinkal\":\"1234\"}\n",
    "    def authenticate(*args,**kwargs):\n",
    "        val = func(*args,**kwargs)\n",
    "        val = args[0]\n",
    "        if args[0] in cn and cn[args[0]] == args[1]:\n",
    "            print(\"Authenticate\")\n",
    "        else:\n",
    "            print(\"Invalid username and password\")\n",
    "    return authenticate\n",
    "\n",
    "@decor\n",
    "def user(id1,pass1):\n",
    "   return 0\n",
    "\n",
    "\n",
    "user_id = input(\"Enter name\")\n",
    "user_pass = input(\"Enter a passsword\")\n",
    "user(user_id,user_pass)"
   ]
  },
  {
   "cell_type": "markdown",
   "id": "5ebe4122",
   "metadata": {},
   "source": [
    "Context Managers"
   ]
  },
  {
   "cell_type": "markdown",
   "id": "66782b24",
   "metadata": {},
   "source": [
    "Context managers allow you to allocate and release resources precisely when you want to. The most widely used example of context managers is the with statement."
   ]
  },
  {
   "cell_type": "markdown",
   "id": "455ede09",
   "metadata": {},
   "source": [
    "A common use case of context managers is locking and unlocking resources and closing opened files"
   ]
  },
  {
   "cell_type": "markdown",
   "id": "d042d13e",
   "metadata": {},
   "source": [
    "The context manager object results from evaluating the expression after with. In other words, expression must return an object that implements the context management protocol. This protocol consists of two special methods:\n",
    "\n",
    ".__enter__() is called by the with statement to enter the runtime context.\n",
    ".__exit__() is called when the execution leaves the with code block."
   ]
  },
  {
   "cell_type": "markdown",
   "id": "9628844e",
   "metadata": {},
   "source": [
    "Creating Sample Context Managers"
   ]
  },
  {
   "cell_type": "code",
   "execution_count": 1,
   "id": "c55b0485",
   "metadata": {},
   "outputs": [
    {
     "name": "stdout",
     "output_type": "stream",
     "text": [
      "Entering the context...\n",
      "Hello, World!\n",
      "Leaving the context...\n",
      "None\n",
      "None\n",
      "None\n"
     ]
    }
   ],
   "source": [
    "class HelloContextManager:\n",
    "    def __enter__(self):\n",
    "        print(\"Entering the context...\")\n",
    "        return \"Hello, World!\"\n",
    "    def __exit__(self,exc_type, exc_value, exc_tb ):\n",
    "        print(\"Leaving the context...\")\n",
    "        print(exc_type, exc_value, exc_tb , sep=\"\\n\")\n",
    "\n",
    "with HelloContextManager() as hello:\n",
    "    print(hello)"
   ]
  },
  {
   "cell_type": "code",
   "execution_count": 11,
   "id": "f23e5146",
   "metadata": {},
   "outputs": [
    {
     "name": "stdout",
     "output_type": "stream",
     "text": [
      "Entering the context...\n",
      "Hello, World!\n",
      "Leaving the context...\n",
      "<class 'IndexError'>\n",
      "string index out of range\n",
      "<traceback object at 0x000002B53CFD8B40>\n"
     ]
    },
    {
     "ename": "IndexError",
     "evalue": "string index out of range",
     "output_type": "error",
     "traceback": [
      "\u001b[1;31m---------------------------------------------------------------------------\u001b[0m",
      "\u001b[1;31mIndexError\u001b[0m                                Traceback (most recent call last)",
      "Cell \u001b[1;32mIn[11], line 4\u001b[0m\n\u001b[0;32m      2\u001b[0m \u001b[38;5;28mprint\u001b[39m(hello)\n\u001b[0;32m      3\u001b[0m hello[\u001b[38;5;241m12\u001b[39m]\n\u001b[1;32m----> 4\u001b[0m hello[\u001b[38;5;241m100\u001b[39m]\n",
      "\u001b[1;31mIndexError\u001b[0m: string index out of range"
     ]
    }
   ],
   "source": [
    "with HelloContextManager() as hello:\n",
    "    print(hello)\n",
    "    hello[12]\n",
    "    hello[100]"
   ]
  },
  {
   "cell_type": "markdown",
   "id": "0af8e776",
   "metadata": {},
   "source": [
    "exc_type is the exception class, IndexError.\n",
    "exc_value is the exception instance.\n",
    "exc_tb is the traceback object."
   ]
  },
  {
   "cell_type": "markdown",
   "id": "8db45b79",
   "metadata": {},
   "source": [
    "Handling Exceptions in a Context Manager"
   ]
  },
  {
   "cell_type": "code",
   "execution_count": 12,
   "id": "86c09b40",
   "metadata": {},
   "outputs": [
    {
     "name": "stdout",
     "output_type": "stream",
     "text": [
      "Entering the context...\n",
      "Hello, World!\n",
      "Leaving the context...\n",
      "An exception occured in your with block: <class 'IndexError'>\n",
      "Exception message: string index out of range\n"
     ]
    }
   ],
   "source": [
    "class HelloContextManager:\n",
    "    def __enter__(self):\n",
    "        print(\"Entering the context...\")\n",
    "        return \"Hello, World!\"\n",
    "    def __exit__(self,exc_type, exc_value, exc_tb ):\n",
    "        print(\"Leaving the context...\")\n",
    "        if isinstance(exc_value, IndexError):\n",
    "            print(f\"An exception occured in your with block: {exc_type}\")\n",
    "            print(f\"Exception message: {exc_value}\")\n",
    "            return True\n",
    "        \n",
    "\n",
    "with HelloContextManager() as hello:\n",
    "    print(hello)\n",
    "    hello[100]\n",
    "\n",
    "print(\"Continue normally from here...\")"
   ]
  },
  {
   "cell_type": "markdown",
   "id": "024441fa",
   "metadata": {},
   "source": [
    "Timer Context Manager: \n",
    "\n",
    "Develop a context manager that measures and prints the time taken for the code block inside it to execute. "
   ]
  },
  {
   "cell_type": "code",
   "execution_count": 14,
   "id": "02122428",
   "metadata": {},
   "outputs": [],
   "source": [
    "from time import perf_counter\n",
    "\n",
    "class Timer:\n",
    "    def __enter__(self):\n",
    "        self.start = perf_counter()\n",
    "        self.end = 0.0\n",
    "        return lambda: self.end - self.start\n",
    "    \n",
    "    def __exit__(self,*args):\n",
    "        self.end = perf_counter()"
   ]
  },
  {
   "cell_type": "code",
   "execution_count": 15,
   "id": "9184cef7",
   "metadata": {},
   "outputs": [
    {
     "data": {
      "text/plain": [
       "0.5002613998949528"
      ]
     },
     "execution_count": 15,
     "metadata": {},
     "output_type": "execute_result"
    }
   ],
   "source": [
    "from time import sleep \n",
    "\n",
    "with Timer() as timer:\n",
    "    sleep(0.5)\n",
    "\n",
    "timer()"
   ]
  },
  {
   "cell_type": "markdown",
   "id": "315c65dc",
   "metadata": {},
   "source": [
    "File Handling Context Manager: \n",
    "\n",
    "Create a context manager for file handling that ensures proper opening and closing of a file. "
   ]
  },
  {
   "cell_type": "code",
   "execution_count": 16,
   "id": "4a4fbdd3",
   "metadata": {},
   "outputs": [],
   "source": [
    "class FileHandling:\n",
    "    def __init__(self,file_name,mode):\n",
    "        self.file = open(file_name,mode)\n",
    "    def __enter__(self):\n",
    "        return self.file\n",
    "    def __exit__(self,type,value,traceback):\n",
    "        self.file.close()\n"
   ]
  },
  {
   "cell_type": "code",
   "execution_count": 21,
   "id": "c82f3381",
   "metadata": {},
   "outputs": [],
   "source": [
    "with FileHandling(\"file.txt\",'') as f:\n",
    "    f.write('hello you have made context manager\\n')"
   ]
  },
  {
   "cell_type": "markdown",
   "id": "cf09dce7",
   "metadata": {},
   "source": [
    "### Object-Oriented Programming: "
   ]
  },
  {
   "cell_type": "markdown",
   "id": "6094ee11",
   "metadata": {},
   "source": [
    "#### Bank Account Class: \n",
    "\n",
    "Design a Bank Account class that includes methods for deposit, withdrawal, and checking the balance. "
   ]
  },
  {
   "cell_type": "code",
   "execution_count": 1,
   "id": "c395e196",
   "metadata": {},
   "outputs": [],
   "source": [
    "class Bank():\n",
    "    bal = 100\n",
    "    def __init__(self,name):\n",
    "        self.name = name\n",
    "        print(\"Hello \",name,\" Welcome\")\n",
    "\n",
    "    def deposit (self):\n",
    "        w = int(input(\"Amount you want to deposit\"))\n",
    "        self.bal = self.bal + w\n",
    "        self.check_balance()\n",
    "\n",
    "    def withdraw(self):\n",
    "        w =  int(input(\"Amount you want to withdraw\"))\n",
    "        if self.bal < w:\n",
    "            print(\"Insufficient Balance\")\n",
    "        else:\n",
    "            self.bal =  self.bal - w\n",
    "        self.check_balance()\n",
    "            \n",
    "    def check_balance(self):\n",
    "        print(f\"Your current balance is {self.bal}\")\n",
    "        \n"
   ]
  },
  {
   "cell_type": "code",
   "execution_count": 2,
   "id": "209f61c0",
   "metadata": {},
   "outputs": [
    {
     "name": "stdout",
     "output_type": "stream",
     "text": [
      "Welcome to bank\n",
      "For Deposit Enter 1 \n",
      " For withdraw Enter 2 \n",
      " For Balance Check Enter 3 \n",
      " For Quit press 4\n"
     ]
    },
    {
     "ename": "ValueError",
     "evalue": "invalid literal for int() with base 10: ''",
     "output_type": "error",
     "traceback": [
      "\u001b[1;31m---------------------------------------------------------------------------\u001b[0m",
      "\u001b[1;31mValueError\u001b[0m                                Traceback (most recent call last)",
      "Cell \u001b[1;32mIn[2], line 3\u001b[0m\n\u001b[0;32m      1\u001b[0m \u001b[38;5;28mprint\u001b[39m(\u001b[38;5;124m\"\u001b[39m\u001b[38;5;124mWelcome to bank\u001b[39m\u001b[38;5;124m\"\u001b[39m)\n\u001b[0;32m      2\u001b[0m \u001b[38;5;28mprint\u001b[39m(\u001b[38;5;124m\"\u001b[39m\u001b[38;5;124mFor Deposit Enter 1 \u001b[39m\u001b[38;5;130;01m\\n\u001b[39;00m\u001b[38;5;124m For withdraw Enter 2 \u001b[39m\u001b[38;5;130;01m\\n\u001b[39;00m\u001b[38;5;124m For Balance Check Enter 3 \u001b[39m\u001b[38;5;130;01m\\n\u001b[39;00m\u001b[38;5;124m For Quit press 4\u001b[39m\u001b[38;5;124m\"\u001b[39m)\n\u001b[1;32m----> 3\u001b[0m inp \u001b[38;5;241m=\u001b[39m \u001b[38;5;28mint\u001b[39m(\u001b[38;5;28minput\u001b[39m(\u001b[38;5;124m\"\u001b[39m\u001b[38;5;124mEnter number\u001b[39m\u001b[38;5;124m\"\u001b[39m))\n\u001b[0;32m      4\u001b[0m name \u001b[38;5;241m=\u001b[39m \u001b[38;5;28minput\u001b[39m(\u001b[38;5;124m\"\u001b[39m\u001b[38;5;124mPlease enter your name :\u001b[39m\u001b[38;5;124m\"\u001b[39m)\n\u001b[0;32m      5\u001b[0m bnk \u001b[38;5;241m=\u001b[39m Bank(name)\n",
      "\u001b[1;31mValueError\u001b[0m: invalid literal for int() with base 10: ''"
     ]
    }
   ],
   "source": [
    "print(\"Welcome to bank\")\n",
    "print(\"For Deposit Enter 1 \\n For withdraw Enter 2 \\n For Balance Check Enter 3 \\n For Quit press 4\")\n",
    "inp = int(input(\"Enter number\"))\n",
    "name = input(\"Please enter your name :\")\n",
    "bnk = Bank(name)\n",
    "\n",
    "while(inp != 4):\n",
    "    if(inp == 1):\n",
    "        bnk.deposit()\n",
    "    elif(inp == 2):\n",
    "        bnk.withdraw()\n",
    "    elif(inp == 3):\n",
    "        bnk.check_balance()\n",
    "    else:\n",
    "        print(\"Wrong input!  \\n Please try again\")\n",
    "# switch = {1 : Bank.deposit(),2 : Bank.withdraw(),3 : Bank.check_balance(),4 : Bank.exit()}\n",
    "# with open(\"bank_acc.txt\",\"w+\") as f:\n",
    "    # f.write()"
   ]
  },
  {
   "cell_type": "markdown",
   "id": "d0273569",
   "metadata": {},
   "source": [
    "#### Inheritance: (Is-A Relation)\n",
    "\n"
   ]
  },
  {
   "cell_type": "markdown",
   "id": "c784259c",
   "metadata": {},
   "source": [
    "##### The super() Function\n",
    "The super() function is a built-in function that returns the objects that represent the parent class. It allows to access the parent class’s methods and attributes in the child class."
   ]
  },
  {
   "cell_type": "markdown",
   "id": "7ffac7ca",
   "metadata": {},
   "source": [
    "Different types of Python Inheritance\n",
    "There are 5 different types of inheritance in Python. They are as follows:\n",
    "\n",
    "<b>Single inheritance</b>: When a child class inherits from only one parent class, it is called single inheritance. We saw an example above.\n",
    "<br>\n",
    "<b>Multiple inheritances</b>: When a child class inherits from multiple parent classes, it is called multiple inheritances. \n",
    "<br>\n",
    "<b>Multilevel inheritance</b>: When we have a child and grandchild relationship. This means that a child class will inherit from its parent class, which in turn is inheriting from its parent class.\n",
    "<br>\n",
    "<b>Hierarchical inheritance</b> More than one derived class can be created from a single base.\n",
    "<br>\n",
    "<b>Hybrid inheritance</b>: This form combines more than one form of inheritance. Basically, it is a blend of more than one type of inheritance."
   ]
  },
  {
   "cell_type": "markdown",
   "id": "cf30a026",
   "metadata": {},
   "source": [
    "Create a base class Shape and derived classes Circle and Rectangle. Include methods to calculate the area and perimeter for each shape. "
   ]
  },
  {
   "cell_type": "code",
   "execution_count": 20,
   "id": "d5df9a99",
   "metadata": {},
   "outputs": [],
   "source": [
    "import math\n",
    "\n",
    "class Shape:\n",
    "    def __init__(self):\n",
    "        # rad = int(input(\"Enter radius\"))\n",
    "        # length = float(input(\"Enter a length\"))\n",
    "        # print(rad,length)\n",
    "        pass\n",
    "\n",
    "class Circle(Shape):\n",
    "    def __init__(self):\n",
    "        super().__init__()\n",
    "        self.r = float(input(\"Enter radius\"))\n",
    "    \n",
    "    def area(self):\n",
    "        area = math.pi *(pow(self.r,2))\n",
    "        print(area)\n",
    "\n",
    "    def perimeter(self):\n",
    "        peri = 2 * math.pi * self.r\n",
    "        print(peri)\n",
    "\n",
    "class Rectangle(Shape):\n",
    "    \n",
    "    def __init__(self):\n",
    "        super().__init__()\n",
    "        self.length = float(input(\"Enter a length\"))\n",
    "        self.breadth = float(input(\"Enter a length\"))\n",
    "\n",
    "    def area(self):\n",
    "        area = self.length*self.breadth\n",
    "        print(area)\n",
    "\n",
    "    def perimeter(self):\n",
    "        peri = 2*(self.length+self.breadth)\n",
    "        print(peri)"
   ]
  },
  {
   "cell_type": "code",
   "execution_count": 24,
   "id": "797cec32",
   "metadata": {},
   "outputs": [
    {
     "name": "stdout",
     "output_type": "stream",
     "text": [
      "28.274333882308138\n",
      "18.0\n"
     ]
    }
   ],
   "source": [
    "Shape()\n",
    "Circle().area()\n",
    "Rectangle().perimeter()"
   ]
  },
  {
   "cell_type": "markdown",
   "id": "d4ce957d",
   "metadata": {},
   "source": [
    "### Composition: (Has-A Relation)\n",
    "\n",
    "Design a class representing a Library that contains books. Each book can have multiple authors. Use composition to represent the relationship between the library and books. "
   ]
  },
  {
   "cell_type": "code",
   "execution_count": 79,
   "id": "2d7238e1",
   "metadata": {},
   "outputs": [],
   "source": [
    "class Library:\n",
    "    dict1 = {\n",
    "    \"To Kill a Mockingbird\": \"Harper Lee\",\n",
    "    \"1984\": [\"George Orwell\",\"Pinkal\"],\n",
    "    \"Pride and Prejudice\": \"Jane Austen\",\n",
    "    \"The Great Gatsby\": \"F. Scott Fitzgerald\",\n",
    "    \"Moby-Dick\": \"Herman Melville\",\n",
    "    \"War and Peace\": \"Leo Tolstoy\",\n",
    "    \"The Catcher in the Rye\": \"J.D. Salinger\",\n",
    "    \"The Lord of the Rings\": \"J.R.R. Tolkien\",\n",
    "    \"The Chronicles of Narnia\": \"C.S. Lewis\",\n",
    "    \"Frankenstein\": \"Mary Shelley\"\n",
    "    }\n",
    "    def __init__(self):\n",
    "        # print(self.dict1)\n",
    "        # print(\"Youa are in init of Library\")\n",
    "        pass\n",
    "\n",
    "    def show_books(self):\n",
    "        # print(\"Youa are in show_books of Library\")\n",
    "        for k in self.dict1:\n",
    "            print(k)\n",
    "\n",
    "class Book:\n",
    "    def __init__(self,book):\n",
    "        # print(\"Youa are in init of Book\")\n",
    "        \n",
    "        self.book = book\n",
    "        # print(self.book)\n",
    "        \n",
    "    \n",
    "    def show_author(self):\n",
    "        # print(\"Youa are in show_author of Book\")\n",
    "        obj = Library()\n",
    "        dict1 = obj.dict1\n",
    "        # print(obj.dict1)\n",
    "        if self.book in dict1:\n",
    "            print(dict1[self.book])\n",
    "        else:\n",
    "            print(\"Book is not available\")\n",
    "\n"
   ]
  },
  {
   "cell_type": "code",
   "execution_count": 63,
   "id": "eed6ac66",
   "metadata": {},
   "outputs": [
    {
     "name": "stdout",
     "output_type": "stream",
     "text": [
      "{'To Kill a Mockingbird': 'Harper Lee', '1984': ['George Orwell', 'Pinkal'], 'Pride and Prejudice': 'Jane Austen', 'The Great Gatsby': 'F. Scott Fitzgerald', 'Moby-Dick': 'Herman Melville', 'War and Peace': 'Leo Tolstoy', 'The Catcher in the Rye': 'J.D. Salinger', 'The Lord of the Rings': 'J.R.R. Tolkien', 'The Chronicles of Narnia': 'C.S. Lewis', 'Frankenstein': 'Mary Shelley'}\n",
      "Youa are in init of Library\n"
     ]
    },
    {
     "data": {
      "text/plain": [
       "<__main__.Library at 0x25077761b50>"
      ]
     },
     "execution_count": 63,
     "metadata": {},
     "output_type": "execute_result"
    }
   ],
   "source": [
    "Library()"
   ]
  },
  {
   "cell_type": "code",
   "execution_count": 64,
   "id": "d2959ae7",
   "metadata": {},
   "outputs": [
    {
     "name": "stdout",
     "output_type": "stream",
     "text": [
      "{'To Kill a Mockingbird': 'Harper Lee', '1984': ['George Orwell', 'Pinkal'], 'Pride and Prejudice': 'Jane Austen', 'The Great Gatsby': 'F. Scott Fitzgerald', 'Moby-Dick': 'Herman Melville', 'War and Peace': 'Leo Tolstoy', 'The Catcher in the Rye': 'J.D. Salinger', 'The Lord of the Rings': 'J.R.R. Tolkien', 'The Chronicles of Narnia': 'C.S. Lewis', 'Frankenstein': 'Mary Shelley'}\n",
      "Youa are in init of Library\n",
      "Youa are in show_books of Library\n",
      "To Kill a Mockingbird\n",
      "1984\n",
      "Pride and Prejudice\n",
      "The Great Gatsby\n",
      "Moby-Dick\n",
      "War and Peace\n",
      "The Catcher in the Rye\n",
      "The Lord of the Rings\n",
      "The Chronicles of Narnia\n",
      "Frankenstein\n"
     ]
    }
   ],
   "source": [
    "Library().show_books()"
   ]
  },
  {
   "cell_type": "code",
   "execution_count": 81,
   "id": "0496deeb",
   "metadata": {},
   "outputs": [
    {
     "name": "stdout",
     "output_type": "stream",
     "text": [
      "['George Orwell', 'Pinkal']\n"
     ]
    }
   ],
   "source": [
    "Book(\"1984\").show_author()"
   ]
  },
  {
   "cell_type": "markdown",
   "id": "3cb60cb8",
   "metadata": {},
   "source": [
    "### Polymorphism: \n",
    "\n",
    "Implement a class hierarchy for different types of animals. Use polymorphism to create a function that prints the sound each animal makes. "
   ]
  },
  {
   "cell_type": "code",
   "execution_count": 88,
   "id": "20be5b87",
   "metadata": {},
   "outputs": [],
   "source": [
    "class Animal:\n",
    "    def speak(self):\n",
    "        True\n",
    "\n",
    "class Dog(Animal):\n",
    "    def speak(self):\n",
    "        print(\"Woof\")\n",
    "        \n",
    "class Cat(Animal):\n",
    "    def speak(self):\n",
    "        print(\"M,eow!!\")"
   ]
  },
  {
   "cell_type": "code",
   "execution_count": 89,
   "id": "9a89bd21",
   "metadata": {},
   "outputs": [
    {
     "name": "stdout",
     "output_type": "stream",
     "text": [
      "Woof\n",
      "None\n",
      "M,eow!!\n",
      "None\n"
     ]
    }
   ],
   "source": [
    "animal = [Dog(),Cat()]\n",
    "for a in animal:\n",
    "    print(a.speak())"
   ]
  }
 ],
 "metadata": {
  "kernelspec": {
   "display_name": "Python 3 (ipykernel)",
   "language": "python",
   "name": "python3"
  },
  "language_info": {
   "codemirror_mode": {
    "name": "ipython",
    "version": 3
   },
   "file_extension": ".py",
   "mimetype": "text/x-python",
   "name": "python",
   "nbconvert_exporter": "python",
   "pygments_lexer": "ipython3",
   "version": "3.11.5"
  }
 },
 "nbformat": 4,
 "nbformat_minor": 5
}
